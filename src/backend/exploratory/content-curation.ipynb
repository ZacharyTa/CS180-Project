{
 "cells": [
  {
   "cell_type": "code",
   "execution_count": 2,
   "metadata": {},
   "outputs": [],
   "source": [
    "from fastembed import TextEmbedding\n",
    "import pandas as pd"
   ]
  },
  {
   "cell_type": "code",
   "execution_count": null,
   "metadata": {},
   "outputs": [
    {
     "name": "stderr",
     "output_type": "stream",
     "text": [
      "Fetching 5 files: 100%|██████████| 5/5 [00:05<00:00,  1.01s/it]"
     ]
    },
    {
     "name": "stdout",
     "output_type": "stream",
     "text": [
      "The model BAAI/bge-small-en-v1.5 is ready to use.\n"
     ]
    },
    {
     "name": "stderr",
     "output_type": "stream",
     "text": [
      "\n"
     ]
    }
   ],
   "source": [
    "embedding_model = TextEmbedding()\n",
    "print(\"The model BAAI/bge-small-en-v1.5 is ready to use.\")\n"
   ]
  },
  {
   "cell_type": "code",
   "execution_count": 16,
   "metadata": {},
   "outputs": [],
   "source": [
    "me = list(embedding_model.embed(\"I love to eat pizza\"))\n",
    "friend = list(embedding_model.embed(\"I love to eat italian food\"))\n",
    "enemy = list(embedding_model.embed(\"I hate to eat pasta\"))\n",
    "neutral = list(embedding_model.embed(\"I eat food\"))\n"
   ]
  },
  {
   "cell_type": "code",
   "execution_count": null,
   "metadata": {},
   "outputs": [],
   "source": [
    "%pip install scikit-learn\n",
    "\n",
    "from sklearn.metrics.pairwise import cosine_similarity"
   ]
  },
  {
   "cell_type": "code",
   "execution_count": 17,
   "metadata": {},
   "outputs": [
    {
     "name": "stdout",
     "output_type": "stream",
     "text": [
      "Cosine similarity between me and friend:  [[0.8638248]]\n",
      "Cosine similarity between me and enemy:  [[0.66182125]]\n",
      "Cosine similarity between me and neutral:  [[0.79984885]]\n",
      "Cosine similarity between friend and enemy:  [[0.7033463]]\n",
      "Cosine similarity between friend and neutral:  [[0.7798995]]\n"
     ]
    }
   ],
   "source": [
    "print(\"Cosine similarity between me and friend: \", cosine_similarity([me[0]], [friend[0]]))\n",
    "print(\"Cosine similarity between me and enemy: \", cosine_similarity([me][0], [enemy[0]]))\n",
    "print(\"Cosine similarity between me and neutral: \", cosine_similarity([me][0], [neutral[0]]))\n",
    "print(\"Cosine similarity between friend and enemy: \", cosine_similarity([friend][0], [enemy[0]]))\n",
    "print(\"Cosine similarity between friend and neutral: \", cosine_similarity([friend][0], [neutral[0]]))"
   ]
  },
  {
   "cell_type": "code",
   "execution_count": 30,
   "metadata": {},
   "outputs": [
    {
     "data": {
      "text/html": [
       "<div>\n",
       "<style scoped>\n",
       "    .dataframe tbody tr th:only-of-type {\n",
       "        vertical-align: middle;\n",
       "    }\n",
       "\n",
       "    .dataframe tbody tr th {\n",
       "        vertical-align: top;\n",
       "    }\n",
       "\n",
       "    .dataframe thead th {\n",
       "        text-align: right;\n",
       "    }\n",
       "</style>\n",
       "<table border=\"1\" class=\"dataframe\">\n",
       "  <thead>\n",
       "    <tr style=\"text-align: right;\">\n",
       "      <th></th>\n",
       "      <th>id</th>\n",
       "      <th>name</th>\n",
       "      <th>cooking_instructions</th>\n",
       "      <th>image_url</th>\n",
       "      <th>calories</th>\n",
       "      <th>proteins</th>\n",
       "      <th>fats</th>\n",
       "      <th>carbs</th>\n",
       "      <th>allergens_list</th>\n",
       "    </tr>\n",
       "  </thead>\n",
       "  <tbody>\n",
       "    <tr>\n",
       "      <th>0</th>\n",
       "      <td>664655</td>\n",
       "      <td>Vegetarian Christmas wreath</td>\n",
       "      <td>Wash the broccoli and cut the florets.\\nFill a...</td>\n",
       "      <td>https://img.spoonacular.com/recipes/664655-556...</td>\n",
       "      <td>223.98</td>\n",
       "      <td>5.33</td>\n",
       "      <td>19.23</td>\n",
       "      <td>9.33</td>\n",
       "      <td>[\"Dairy\", \"Egg\", \"Meat\"]</td>\n",
       "    </tr>\n",
       "    <tr>\n",
       "      <th>1</th>\n",
       "      <td>654032</td>\n",
       "      <td>Oreo Hazelnut and Banana Cheesecake</td>\n",
       "      <td>&lt;ol&gt;&lt;li&gt;Mix crushed Oreo cookies with butter a...</td>\n",
       "      <td>https://img.spoonacular.com/recipes/654032-556...</td>\n",
       "      <td>414.88</td>\n",
       "      <td>6.17</td>\n",
       "      <td>31.67</td>\n",
       "      <td>28.70</td>\n",
       "      <td>[\"Gluten\", \"Dairy\", \"Egg\", \"Meat\"]</td>\n",
       "    </tr>\n",
       "  </tbody>\n",
       "</table>\n",
       "</div>"
      ],
      "text/plain": [
       "       id                                 name  \\\n",
       "0  664655          Vegetarian Christmas wreath   \n",
       "1  654032  Oreo Hazelnut and Banana Cheesecake   \n",
       "\n",
       "                                cooking_instructions  \\\n",
       "0  Wash the broccoli and cut the florets.\\nFill a...   \n",
       "1  <ol><li>Mix crushed Oreo cookies with butter a...   \n",
       "\n",
       "                                           image_url  calories  proteins  \\\n",
       "0  https://img.spoonacular.com/recipes/664655-556...    223.98      5.33   \n",
       "1  https://img.spoonacular.com/recipes/654032-556...    414.88      6.17   \n",
       "\n",
       "    fats  carbs                      allergens_list  \n",
       "0  19.23   9.33            [\"Dairy\", \"Egg\", \"Meat\"]  \n",
       "1  31.67  28.70  [\"Gluten\", \"Dairy\", \"Egg\", \"Meat\"]  "
      ]
     },
     "execution_count": 30,
     "metadata": {},
     "output_type": "execute_result"
    }
   ],
   "source": [
    "recipe_df = pd.read_csv('recipes.csv')\n",
    "recipe_df.head(2)"
   ]
  },
  {
   "cell_type": "code",
   "execution_count": 31,
   "metadata": {},
   "outputs": [],
   "source": [
    "def embed_text(text: str):\n",
    "    embedding = list(embedding_model.embed(text))\n",
    "    return embedding[0] if embedding else None\n",
    "\n",
    "# embed name column\n",
    "recipe_df[\"name_embedding\"] = recipe_df[\"name\"].apply(embed_text)\n"
   ]
  },
  {
   "cell_type": "code",
   "execution_count": 32,
   "metadata": {},
   "outputs": [
    {
     "data": {
      "text/html": [
       "<div>\n",
       "<style scoped>\n",
       "    .dataframe tbody tr th:only-of-type {\n",
       "        vertical-align: middle;\n",
       "    }\n",
       "\n",
       "    .dataframe tbody tr th {\n",
       "        vertical-align: top;\n",
       "    }\n",
       "\n",
       "    .dataframe thead th {\n",
       "        text-align: right;\n",
       "    }\n",
       "</style>\n",
       "<table border=\"1\" class=\"dataframe\">\n",
       "  <thead>\n",
       "    <tr style=\"text-align: right;\">\n",
       "      <th></th>\n",
       "      <th>id</th>\n",
       "      <th>name</th>\n",
       "      <th>cooking_instructions</th>\n",
       "      <th>image_url</th>\n",
       "      <th>calories</th>\n",
       "      <th>proteins</th>\n",
       "      <th>fats</th>\n",
       "      <th>carbs</th>\n",
       "      <th>allergens_list</th>\n",
       "      <th>name_embedding</th>\n",
       "    </tr>\n",
       "  </thead>\n",
       "  <tbody>\n",
       "    <tr>\n",
       "      <th>0</th>\n",
       "      <td>664655</td>\n",
       "      <td>Vegetarian Christmas wreath</td>\n",
       "      <td>Wash the broccoli and cut the florets.\\nFill a...</td>\n",
       "      <td>https://img.spoonacular.com/recipes/664655-556...</td>\n",
       "      <td>223.98</td>\n",
       "      <td>5.33</td>\n",
       "      <td>19.23</td>\n",
       "      <td>9.33</td>\n",
       "      <td>[\"Dairy\", \"Egg\", \"Meat\"]</td>\n",
       "      <td>[-0.015932888, 0.012190573, 0.026664816, -0.02...</td>\n",
       "    </tr>\n",
       "    <tr>\n",
       "      <th>1</th>\n",
       "      <td>654032</td>\n",
       "      <td>Oreo Hazelnut and Banana Cheesecake</td>\n",
       "      <td>&lt;ol&gt;&lt;li&gt;Mix crushed Oreo cookies with butter a...</td>\n",
       "      <td>https://img.spoonacular.com/recipes/654032-556...</td>\n",
       "      <td>414.88</td>\n",
       "      <td>6.17</td>\n",
       "      <td>31.67</td>\n",
       "      <td>28.70</td>\n",
       "      <td>[\"Gluten\", \"Dairy\", \"Egg\", \"Meat\"]</td>\n",
       "      <td>[-0.015153038, -0.010637672, 0.038486857, -0.0...</td>\n",
       "    </tr>\n",
       "  </tbody>\n",
       "</table>\n",
       "</div>"
      ],
      "text/plain": [
       "       id                                 name  \\\n",
       "0  664655          Vegetarian Christmas wreath   \n",
       "1  654032  Oreo Hazelnut and Banana Cheesecake   \n",
       "\n",
       "                                cooking_instructions  \\\n",
       "0  Wash the broccoli and cut the florets.\\nFill a...   \n",
       "1  <ol><li>Mix crushed Oreo cookies with butter a...   \n",
       "\n",
       "                                           image_url  calories  proteins  \\\n",
       "0  https://img.spoonacular.com/recipes/664655-556...    223.98      5.33   \n",
       "1  https://img.spoonacular.com/recipes/654032-556...    414.88      6.17   \n",
       "\n",
       "    fats  carbs                      allergens_list  \\\n",
       "0  19.23   9.33            [\"Dairy\", \"Egg\", \"Meat\"]   \n",
       "1  31.67  28.70  [\"Gluten\", \"Dairy\", \"Egg\", \"Meat\"]   \n",
       "\n",
       "                                      name_embedding  \n",
       "0  [-0.015932888, 0.012190573, 0.026664816, -0.02...  \n",
       "1  [-0.015153038, -0.010637672, 0.038486857, -0.0...  "
      ]
     },
     "execution_count": 32,
     "metadata": {},
     "output_type": "execute_result"
    }
   ],
   "source": [
    "recipe_df.head(2)"
   ]
  },
  {
   "cell_type": "code",
   "execution_count": 36,
   "metadata": {},
   "outputs": [],
   "source": [
    "recipe_df.to_csv('recipes_with_embeddings.csv', index=False)"
   ]
  }
 ],
 "metadata": {
  "kernelspec": {
   "display_name": ".venv",
   "language": "python",
   "name": "python3"
  },
  "language_info": {
   "codemirror_mode": {
    "name": "ipython",
    "version": 3
   },
   "file_extension": ".py",
   "mimetype": "text/x-python",
   "name": "python",
   "nbconvert_exporter": "python",
   "pygments_lexer": "ipython3",
   "version": "3.13.1"
  }
 },
 "nbformat": 4,
 "nbformat_minor": 2
}
